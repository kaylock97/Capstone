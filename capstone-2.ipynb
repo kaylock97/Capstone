{
 "cells": [
  {
   "cell_type": "code",
   "execution_count": 1,
   "id": "39335ec5",
   "metadata": {},
   "outputs": [],
   "source": [
    "import pandas as pd\n",
    "import json\n",
    "import numpy as np\n",
    "from pandasql import sqldf\n",
    "import statistics \n",
    "import math\n",
    "import scipy as stats\n",
    "import matplotlib.pyplot as plt\n",
    "import seaborn as sns\n",
    "import sqlite3\n",
    "import datetime\n",
    "from datetime import  date, datetime, timedelta"
   ]
  },
  {
   "cell_type": "code",
   "execution_count": 2,
   "id": "5d8f3892",
   "metadata": {},
   "outputs": [
    {
     "name": "stdout",
     "output_type": "stream",
     "text": [
      "Requirement already satisfied: pandas in /Users/kaylalocklear/opt/anaconda3/lib/python3.9/site-packages (2.0.1)\n",
      "Requirement already satisfied: python-dateutil>=2.8.2 in /Users/kaylalocklear/opt/anaconda3/lib/python3.9/site-packages (from pandas) (2.8.2)\n",
      "Requirement already satisfied: tzdata>=2022.1 in /Users/kaylalocklear/opt/anaconda3/lib/python3.9/site-packages (from pandas) (2023.3)\n",
      "Requirement already satisfied: numpy>=1.20.3 in /Users/kaylalocklear/opt/anaconda3/lib/python3.9/site-packages (from pandas) (1.21.5)\n",
      "Requirement already satisfied: pytz>=2020.1 in /Users/kaylalocklear/opt/anaconda3/lib/python3.9/site-packages (from pandas) (2022.1)\n",
      "Requirement already satisfied: six>=1.5 in /Users/kaylalocklear/opt/anaconda3/lib/python3.9/site-packages (from python-dateutil>=2.8.2->pandas) (1.16.0)\n",
      "Note: you may need to restart the kernel to use updated packages.\n"
     ]
    }
   ],
   "source": [
    "pip install pandas --upgrade"
   ]
  },
  {
   "cell_type": "code",
   "execution_count": 3,
   "id": "1ebd8f44",
   "metadata": {},
   "outputs": [],
   "source": [
    "# import table\n",
    "demographic = pd.read_csv('/Users/kaylalocklear/Downloads/archive/demographic.csv')\n"
   ]
  },
  {
   "cell_type": "code",
   "execution_count": 4,
   "id": "39e97e12",
   "metadata": {},
   "outputs": [],
   "source": [
    "# subset\n",
    "demo_subset = demographic[['SEQN','RIDAGEYR','RIAGENDR','RIDRETH3','INDFMIN2']]\n"
   ]
  },
  {
   "cell_type": "code",
   "execution_count": 5,
   "id": "e0376f62",
   "metadata": {},
   "outputs": [],
   "source": [
    "# rename columns\n",
    "demo_subset.columns = ['sequence_number','age', 'gender','race','annual_family_income']"
   ]
  },
  {
   "cell_type": "code",
   "execution_count": 6,
   "id": "15e9fedf",
   "metadata": {},
   "outputs": [
    {
     "name": "stderr",
     "output_type": "stream",
     "text": [
      "/var/folders/pz/3gh_6mq51_jd1_x487sw9b0c0000gn/T/ipykernel_37575/2544892200.py:2: SettingWithCopyWarning: \n",
      "A value is trying to be set on a copy of a slice from a DataFrame.\n",
      "Try using .loc[row_indexer,col_indexer] = value instead\n",
      "\n",
      "See the caveats in the documentation: https://pandas.pydata.org/pandas-docs/stable/user_guide/indexing.html#returning-a-view-versus-a-copy\n",
      "  demo_subset[['race']] = demo_subset[['race']].replace([1], ['Mexican American'])\n",
      "/var/folders/pz/3gh_6mq51_jd1_x487sw9b0c0000gn/T/ipykernel_37575/2544892200.py:3: SettingWithCopyWarning: \n",
      "A value is trying to be set on a copy of a slice from a DataFrame.\n",
      "Try using .loc[row_indexer,col_indexer] = value instead\n",
      "\n",
      "See the caveats in the documentation: https://pandas.pydata.org/pandas-docs/stable/user_guide/indexing.html#returning-a-view-versus-a-copy\n",
      "  demo_subset[['race']] = demo_subset[['race']].replace([2], ['Other Hispanic'])\n",
      "/var/folders/pz/3gh_6mq51_jd1_x487sw9b0c0000gn/T/ipykernel_37575/2544892200.py:4: SettingWithCopyWarning: \n",
      "A value is trying to be set on a copy of a slice from a DataFrame.\n",
      "Try using .loc[row_indexer,col_indexer] = value instead\n",
      "\n",
      "See the caveats in the documentation: https://pandas.pydata.org/pandas-docs/stable/user_guide/indexing.html#returning-a-view-versus-a-copy\n",
      "  demo_subset[['race']] = demo_subset[['race']].replace([3], ['White'])\n",
      "/var/folders/pz/3gh_6mq51_jd1_x487sw9b0c0000gn/T/ipykernel_37575/2544892200.py:5: SettingWithCopyWarning: \n",
      "A value is trying to be set on a copy of a slice from a DataFrame.\n",
      "Try using .loc[row_indexer,col_indexer] = value instead\n",
      "\n",
      "See the caveats in the documentation: https://pandas.pydata.org/pandas-docs/stable/user_guide/indexing.html#returning-a-view-versus-a-copy\n",
      "  demo_subset[['race']] = demo_subset[['race']].replace([4], ['African American'])\n",
      "/var/folders/pz/3gh_6mq51_jd1_x487sw9b0c0000gn/T/ipykernel_37575/2544892200.py:6: SettingWithCopyWarning: \n",
      "A value is trying to be set on a copy of a slice from a DataFrame.\n",
      "Try using .loc[row_indexer,col_indexer] = value instead\n",
      "\n",
      "See the caveats in the documentation: https://pandas.pydata.org/pandas-docs/stable/user_guide/indexing.html#returning-a-view-versus-a-copy\n",
      "  demo_subset[['race']] = demo_subset[['race']].replace([6], ['Asian'])\n",
      "/var/folders/pz/3gh_6mq51_jd1_x487sw9b0c0000gn/T/ipykernel_37575/2544892200.py:7: SettingWithCopyWarning: \n",
      "A value is trying to be set on a copy of a slice from a DataFrame.\n",
      "Try using .loc[row_indexer,col_indexer] = value instead\n",
      "\n",
      "See the caveats in the documentation: https://pandas.pydata.org/pandas-docs/stable/user_guide/indexing.html#returning-a-view-versus-a-copy\n",
      "  demo_subset[['race']] = demo_subset[['race']].replace([7], ['Other/Multi'])\n"
     ]
    }
   ],
   "source": [
    "# replacing race numbers to words\n",
    "demo_subset[['race']] = demo_subset[['race']].replace([1], ['Mexican American'])\n",
    "demo_subset[['race']] = demo_subset[['race']].replace([2], ['Other Hispanic'])\n",
    "demo_subset[['race']] = demo_subset[['race']].replace([3], ['White'])\n",
    "demo_subset[['race']] = demo_subset[['race']].replace([4], ['African American'])\n",
    "demo_subset[['race']] = demo_subset[['race']].replace([6], ['Asian'])\n",
    "demo_subset[['race']] = demo_subset[['race']].replace([7], ['Other/Multi'])\n"
   ]
  },
  {
   "cell_type": "code",
   "execution_count": 7,
   "id": "4266239a",
   "metadata": {},
   "outputs": [
    {
     "name": "stderr",
     "output_type": "stream",
     "text": [
      "/var/folders/pz/3gh_6mq51_jd1_x487sw9b0c0000gn/T/ipykernel_37575/599189504.py:3: SettingWithCopyWarning: \n",
      "A value is trying to be set on a copy of a slice from a DataFrame.\n",
      "Try using .loc[row_indexer,col_indexer] = value instead\n",
      "\n",
      "See the caveats in the documentation: https://pandas.pydata.org/pandas-docs/stable/user_guide/indexing.html#returning-a-view-versus-a-copy\n",
      "  demo_subset[['annual_family_income']] = demo_subset[['annual_family_income']].replace([1], ['0 - 4,999'])\n",
      "/var/folders/pz/3gh_6mq51_jd1_x487sw9b0c0000gn/T/ipykernel_37575/599189504.py:4: SettingWithCopyWarning: \n",
      "A value is trying to be set on a copy of a slice from a DataFrame.\n",
      "Try using .loc[row_indexer,col_indexer] = value instead\n",
      "\n",
      "See the caveats in the documentation: https://pandas.pydata.org/pandas-docs/stable/user_guide/indexing.html#returning-a-view-versus-a-copy\n",
      "  demo_subset[['annual_family_income']] = demo_subset[['annual_family_income']].replace([2], ['5,000 - 9,999'])\n",
      "/var/folders/pz/3gh_6mq51_jd1_x487sw9b0c0000gn/T/ipykernel_37575/599189504.py:5: SettingWithCopyWarning: \n",
      "A value is trying to be set on a copy of a slice from a DataFrame.\n",
      "Try using .loc[row_indexer,col_indexer] = value instead\n",
      "\n",
      "See the caveats in the documentation: https://pandas.pydata.org/pandas-docs/stable/user_guide/indexing.html#returning-a-view-versus-a-copy\n",
      "  demo_subset[['annual_family_income']] = demo_subset[['annual_family_income']].replace([3], ['10,000 - 14,999'])\n",
      "/var/folders/pz/3gh_6mq51_jd1_x487sw9b0c0000gn/T/ipykernel_37575/599189504.py:6: SettingWithCopyWarning: \n",
      "A value is trying to be set on a copy of a slice from a DataFrame.\n",
      "Try using .loc[row_indexer,col_indexer] = value instead\n",
      "\n",
      "See the caveats in the documentation: https://pandas.pydata.org/pandas-docs/stable/user_guide/indexing.html#returning-a-view-versus-a-copy\n",
      "  demo_subset[['annual_family_income']] = demo_subset[['annual_family_income']].replace([4], ['15,000 - 19,999'])\n",
      "/var/folders/pz/3gh_6mq51_jd1_x487sw9b0c0000gn/T/ipykernel_37575/599189504.py:7: SettingWithCopyWarning: \n",
      "A value is trying to be set on a copy of a slice from a DataFrame.\n",
      "Try using .loc[row_indexer,col_indexer] = value instead\n",
      "\n",
      "See the caveats in the documentation: https://pandas.pydata.org/pandas-docs/stable/user_guide/indexing.html#returning-a-view-versus-a-copy\n",
      "  demo_subset[['annual_family_income']] = demo_subset[['annual_family_income']].replace([5], ['20,000 - 24,999'])\n",
      "/var/folders/pz/3gh_6mq51_jd1_x487sw9b0c0000gn/T/ipykernel_37575/599189504.py:8: SettingWithCopyWarning: \n",
      "A value is trying to be set on a copy of a slice from a DataFrame.\n",
      "Try using .loc[row_indexer,col_indexer] = value instead\n",
      "\n",
      "See the caveats in the documentation: https://pandas.pydata.org/pandas-docs/stable/user_guide/indexing.html#returning-a-view-versus-a-copy\n",
      "  demo_subset[['annual_family_income']] = demo_subset[['annual_family_income']].replace([6], ['25,000 - 34,999'])\n",
      "/var/folders/pz/3gh_6mq51_jd1_x487sw9b0c0000gn/T/ipykernel_37575/599189504.py:9: SettingWithCopyWarning: \n",
      "A value is trying to be set on a copy of a slice from a DataFrame.\n",
      "Try using .loc[row_indexer,col_indexer] = value instead\n",
      "\n",
      "See the caveats in the documentation: https://pandas.pydata.org/pandas-docs/stable/user_guide/indexing.html#returning-a-view-versus-a-copy\n",
      "  demo_subset[['annual_family_income']] = demo_subset[['annual_family_income']].replace([7], ['35,000 - 44,999'])\n",
      "/var/folders/pz/3gh_6mq51_jd1_x487sw9b0c0000gn/T/ipykernel_37575/599189504.py:10: SettingWithCopyWarning: \n",
      "A value is trying to be set on a copy of a slice from a DataFrame.\n",
      "Try using .loc[row_indexer,col_indexer] = value instead\n",
      "\n",
      "See the caveats in the documentation: https://pandas.pydata.org/pandas-docs/stable/user_guide/indexing.html#returning-a-view-versus-a-copy\n",
      "  demo_subset[['annual_family_income']] = demo_subset[['annual_family_income']].replace([8], ['45,000 - 54,999'])\n",
      "/var/folders/pz/3gh_6mq51_jd1_x487sw9b0c0000gn/T/ipykernel_37575/599189504.py:11: SettingWithCopyWarning: \n",
      "A value is trying to be set on a copy of a slice from a DataFrame.\n",
      "Try using .loc[row_indexer,col_indexer] = value instead\n",
      "\n",
      "See the caveats in the documentation: https://pandas.pydata.org/pandas-docs/stable/user_guide/indexing.html#returning-a-view-versus-a-copy\n",
      "  demo_subset[['annual_family_income']] = demo_subset[['annual_family_income']].replace([9], ['55,000 - 64,999'])\n",
      "/var/folders/pz/3gh_6mq51_jd1_x487sw9b0c0000gn/T/ipykernel_37575/599189504.py:12: SettingWithCopyWarning: \n",
      "A value is trying to be set on a copy of a slice from a DataFrame.\n",
      "Try using .loc[row_indexer,col_indexer] = value instead\n",
      "\n",
      "See the caveats in the documentation: https://pandas.pydata.org/pandas-docs/stable/user_guide/indexing.html#returning-a-view-versus-a-copy\n",
      "  demo_subset[['annual_family_income']] = demo_subset[['annual_family_income']].replace([10], ['65,000 - 74,999'])\n",
      "/var/folders/pz/3gh_6mq51_jd1_x487sw9b0c0000gn/T/ipykernel_37575/599189504.py:13: SettingWithCopyWarning: \n",
      "A value is trying to be set on a copy of a slice from a DataFrame.\n",
      "Try using .loc[row_indexer,col_indexer] = value instead\n",
      "\n",
      "See the caveats in the documentation: https://pandas.pydata.org/pandas-docs/stable/user_guide/indexing.html#returning-a-view-versus-a-copy\n",
      "  demo_subset[['annual_family_income']] = demo_subset[['annual_family_income']].replace([12], ['20,000 and Over'])\n",
      "/var/folders/pz/3gh_6mq51_jd1_x487sw9b0c0000gn/T/ipykernel_37575/599189504.py:14: SettingWithCopyWarning: \n",
      "A value is trying to be set on a copy of a slice from a DataFrame.\n",
      "Try using .loc[row_indexer,col_indexer] = value instead\n",
      "\n",
      "See the caveats in the documentation: https://pandas.pydata.org/pandas-docs/stable/user_guide/indexing.html#returning-a-view-versus-a-copy\n",
      "  demo_subset[['annual_family_income']] = demo_subset[['annual_family_income']].replace([13], ['Under 20,000'])\n",
      "/var/folders/pz/3gh_6mq51_jd1_x487sw9b0c0000gn/T/ipykernel_37575/599189504.py:15: SettingWithCopyWarning: \n",
      "A value is trying to be set on a copy of a slice from a DataFrame.\n",
      "Try using .loc[row_indexer,col_indexer] = value instead\n",
      "\n",
      "See the caveats in the documentation: https://pandas.pydata.org/pandas-docs/stable/user_guide/indexing.html#returning-a-view-versus-a-copy\n",
      "  demo_subset[['annual_family_income']] = demo_subset[['annual_family_income']].replace([14], ['75,000 and Over'])\n",
      "/var/folders/pz/3gh_6mq51_jd1_x487sw9b0c0000gn/T/ipykernel_37575/599189504.py:16: SettingWithCopyWarning: \n",
      "A value is trying to be set on a copy of a slice from a DataFrame.\n",
      "Try using .loc[row_indexer,col_indexer] = value instead\n",
      "\n",
      "See the caveats in the documentation: https://pandas.pydata.org/pandas-docs/stable/user_guide/indexing.html#returning-a-view-versus-a-copy\n",
      "  demo_subset[['annual_family_income']] = demo_subset[['annual_family_income']].replace([15], ['100,000 and Over'])\n",
      "/var/folders/pz/3gh_6mq51_jd1_x487sw9b0c0000gn/T/ipykernel_37575/599189504.py:17: SettingWithCopyWarning: \n",
      "A value is trying to be set on a copy of a slice from a DataFrame.\n",
      "Try using .loc[row_indexer,col_indexer] = value instead\n",
      "\n",
      "See the caveats in the documentation: https://pandas.pydata.org/pandas-docs/stable/user_guide/indexing.html#returning-a-view-versus-a-copy\n",
      "  demo_subset[['annual_family_income']] = demo_subset[['annual_family_income']].replace([77], ['Refused'])\n",
      "/var/folders/pz/3gh_6mq51_jd1_x487sw9b0c0000gn/T/ipykernel_37575/599189504.py:18: SettingWithCopyWarning: \n",
      "A value is trying to be set on a copy of a slice from a DataFrame.\n",
      "Try using .loc[row_indexer,col_indexer] = value instead\n",
      "\n",
      "See the caveats in the documentation: https://pandas.pydata.org/pandas-docs/stable/user_guide/indexing.html#returning-a-view-versus-a-copy\n",
      "  demo_subset[['annual_family_income']] = demo_subset[['annual_family_income']].replace([99], ['Do not know'])\n"
     ]
    }
   ],
   "source": [
    "# replacing annual income to string\n",
    "\n",
    "demo_subset[['annual_family_income']] = demo_subset[['annual_family_income']].replace([1], ['0 - 4,999'])\n",
    "demo_subset[['annual_family_income']] = demo_subset[['annual_family_income']].replace([2], ['5,000 - 9,999'])\n",
    "demo_subset[['annual_family_income']] = demo_subset[['annual_family_income']].replace([3], ['10,000 - 14,999'])\n",
    "demo_subset[['annual_family_income']] = demo_subset[['annual_family_income']].replace([4], ['15,000 - 19,999'])\n",
    "demo_subset[['annual_family_income']] = demo_subset[['annual_family_income']].replace([5], ['20,000 - 24,999'])\n",
    "demo_subset[['annual_family_income']] = demo_subset[['annual_family_income']].replace([6], ['25,000 - 34,999'])\n",
    "demo_subset[['annual_family_income']] = demo_subset[['annual_family_income']].replace([7], ['35,000 - 44,999'])\n",
    "demo_subset[['annual_family_income']] = demo_subset[['annual_family_income']].replace([8], ['45,000 - 54,999'])\n",
    "demo_subset[['annual_family_income']] = demo_subset[['annual_family_income']].replace([9], ['55,000 - 64,999'])\n",
    "demo_subset[['annual_family_income']] = demo_subset[['annual_family_income']].replace([10], ['65,000 - 74,999'])\n",
    "demo_subset[['annual_family_income']] = demo_subset[['annual_family_income']].replace([12], ['20,000 and Over'])\n",
    "demo_subset[['annual_family_income']] = demo_subset[['annual_family_income']].replace([13], ['Under 20,000'])\n",
    "demo_subset[['annual_family_income']] = demo_subset[['annual_family_income']].replace([14], ['75,000 and Over'])\n",
    "demo_subset[['annual_family_income']] = demo_subset[['annual_family_income']].replace([15], ['100,000 and Over'])\n",
    "demo_subset[['annual_family_income']] = demo_subset[['annual_family_income']].replace([77], ['Refused'])\n",
    "demo_subset[['annual_family_income']] = demo_subset[['annual_family_income']].replace([99], ['Do not know'])\n",
    "                                                                                            \n"
   ]
  },
  {
   "cell_type": "code",
   "execution_count": 8,
   "id": "1de0b860",
   "metadata": {},
   "outputs": [
    {
     "data": {
      "text/plain": [
       "array(['15,000 - 19,999', '35,000 - 44,999', '65,000 - 74,999',\n",
       "       '55,000 - 64,999', '100,000 and Over', '10,000 - 14,999',\n",
       "       'Refused', '20,000 - 24,999', '75,000 and Over', '5,000 - 9,999',\n",
       "       '45,000 - 54,999', '20,000 and Over', '25,000 - 34,999', nan,\n",
       "       'Under 20,000', '0 - 4,999', 'Do not know'], dtype=object)"
      ]
     },
     "execution_count": 8,
     "metadata": {},
     "output_type": "execute_result"
    }
   ],
   "source": [
    "demo_subset.annual_family_income.unique()"
   ]
  },
  {
   "cell_type": "code",
   "execution_count": 9,
   "id": "3491da7d",
   "metadata": {},
   "outputs": [],
   "source": [
    "# import table 2 \n",
    "diet = pd.read_csv('/Users/kaylalocklear/Downloads/archive/diet.csv')\n"
   ]
  },
  {
   "cell_type": "code",
   "execution_count": 10,
   "id": "f4d3f507",
   "metadata": {},
   "outputs": [],
   "source": [
    "# subset data\n",
    "diet_subset = diet[['SEQN','DR1TKCAL','DR1TCARB','DR1TPROT','DR1TFIBE','DR1TTFAT','DR1TCHOL',\n",
    "                   'DR1TALCO','DR1TSUGR', 'DR1TSODI']]\n"
   ]
  },
  {
   "cell_type": "code",
   "execution_count": 11,
   "id": "3d3af5ab",
   "metadata": {},
   "outputs": [],
   "source": [
    "# rename\n",
    "diet_subset.columns = ['sequence_number','total_calories','total_carbs','total_protien', 'total_fiber',\n",
    "                       'total_fat', 'total_cholesterol','total_alcohol','total_sugar',\n",
    "                       'total_sodium']\n"
   ]
  },
  {
   "cell_type": "code",
   "execution_count": 12,
   "id": "f5dfebc2",
   "metadata": {},
   "outputs": [],
   "source": [
    "# import table 3\n",
    "exam = pd.read_csv('/Users/kaylalocklear/Downloads/archive/examination.csv')\n"
   ]
  },
  {
   "cell_type": "code",
   "execution_count": 13,
   "id": "fce8efce",
   "metadata": {},
   "outputs": [],
   "source": [
    "# subset\n",
    "exam_subset = exam[['SEQN','BMXBMI','BPXDI1','BPXSY1','BPXPLS']]\n"
   ]
  },
  {
   "cell_type": "code",
   "execution_count": 14,
   "id": "ff6e3949",
   "metadata": {},
   "outputs": [],
   "source": [
    "# rename\n",
    "exam_subset.columns = ['sequence_number','BMI','diastolic_bp','systolic_bp','pulse']\n"
   ]
  },
  {
   "cell_type": "code",
   "execution_count": 15,
   "id": "1d81de9a",
   "metadata": {},
   "outputs": [],
   "source": [
    "# import table 4\n",
    "labs = pd.read_csv('/Users/kaylalocklear/Downloads/archive/labs.csv')\n"
   ]
  },
  {
   "cell_type": "code",
   "execution_count": 16,
   "id": "67d9bceb",
   "metadata": {},
   "outputs": [],
   "source": [
    "# subset\n",
    "lab_subset = labs[['SEQN','URXPREG','LBDSCASI','LBXSCLSI','LBXSCK','LBXSKSI','LBXSNASI',\n",
    "                 'LBDSBUSI','LBDSALSI','LBXSASSI','LBXSATSI','LBXTC']]\n"
   ]
  },
  {
   "cell_type": "code",
   "execution_count": 17,
   "id": "2dbb84d9",
   "metadata": {},
   "outputs": [],
   "source": [
    "# rename columns\n",
    "lab_subset.columns = ['sequence_number','pregnancy_test','calcium',\n",
    "                      'chloride','creatine','potassium','sodium',\n",
    "                 'urea_nitrogen','albumin','AST','ALT','total_cholesterol_lab']\n"
   ]
  },
  {
   "cell_type": "code",
   "execution_count": 18,
   "id": "b1e0c2ec",
   "metadata": {},
   "outputs": [],
   "source": [
    "# import table 5\n",
    "meds = pd.read_csv('/Users/kaylalocklear/Downloads/archive/medications.csv', encoding = \"ISO-8859-1\")\n"
   ]
  },
  {
   "cell_type": "code",
   "execution_count": 19,
   "id": "c5587fff",
   "metadata": {},
   "outputs": [],
   "source": [
    "# subset\n",
    "med_subset = meds[['SEQN','RXDCOUNT','RXDRSD1']]\n"
   ]
  },
  {
   "cell_type": "code",
   "execution_count": 20,
   "id": "a661f2e9",
   "metadata": {},
   "outputs": [],
   "source": [
    "# rename columns\n",
    "med_subset.columns = ['sequence_number','number_of_prescriptions','diagnosis']\n"
   ]
  },
  {
   "cell_type": "code",
   "execution_count": 21,
   "id": "79c9820b",
   "metadata": {},
   "outputs": [],
   "source": [
    "# import table 6\n",
    "question = pd.read_csv('/Users/kaylalocklear/Downloads/archive/questionnaire.csv')\n"
   ]
  },
  {
   "cell_type": "code",
   "execution_count": 22,
   "id": "f907bb8d",
   "metadata": {},
   "outputs": [],
   "source": [
    "# subset\n",
    "question_subset = question[['SEQN','ALQ130', 'DIQ010','HUQ051','MCQ080','MCQ160B','MCQ160C','MCQ160E', 'DBD895', 'HIQ011']]\n"
   ]
  },
  {
   "cell_type": "code",
   "execution_count": 23,
   "id": "e78842fc",
   "metadata": {},
   "outputs": [],
   "source": [
    "# rename columns\n",
    "question_subset.columns = ['sequence_number','number_of_alc_drinks', 'diabetes_diagnosis',\n",
    "                           'healthcare_use_this_year','overweight','CHF','coronary_heart_disease','heart_attack','weekly_meals_not_at_home',\n",
    "                          'insurance_coverage']"
   ]
  },
  {
   "cell_type": "code",
   "execution_count": 24,
   "id": "4f4ae9d8",
   "metadata": {},
   "outputs": [
    {
     "name": "stderr",
     "output_type": "stream",
     "text": [
      "/var/folders/pz/3gh_6mq51_jd1_x487sw9b0c0000gn/T/ipykernel_37575/412556505.py:2: SettingWithCopyWarning: \n",
      "A value is trying to be set on a copy of a slice from a DataFrame.\n",
      "Try using .loc[row_indexer,col_indexer] = value instead\n",
      "\n",
      "See the caveats in the documentation: https://pandas.pydata.org/pandas-docs/stable/user_guide/indexing.html#returning-a-view-versus-a-copy\n",
      "  question_subset[['diabetes_diagnosis','overweight','CHF','coronary_heart_disease', 'heart_attack','insurance_coverage']] = question_subset[['diabetes_diagnosis','overweight','CHF','coronary_heart_disease', 'heart_attack','insurance_coverage']].replace([1.0], ['yes'])\n",
      "/var/folders/pz/3gh_6mq51_jd1_x487sw9b0c0000gn/T/ipykernel_37575/412556505.py:3: SettingWithCopyWarning: \n",
      "A value is trying to be set on a copy of a slice from a DataFrame.\n",
      "Try using .loc[row_indexer,col_indexer] = value instead\n",
      "\n",
      "See the caveats in the documentation: https://pandas.pydata.org/pandas-docs/stable/user_guide/indexing.html#returning-a-view-versus-a-copy\n",
      "  question_subset[['diabetes_diagnosis','overweight','CHF','coronary_heart_disease', 'heart_attack','insurance_coverage']] = question_subset[['diabetes_diagnosis','overweight','CHF','coronary_heart_disease', 'heart_attack','insurance_coverage']].replace([9.0], ['Unknown'])\n",
      "/var/folders/pz/3gh_6mq51_jd1_x487sw9b0c0000gn/T/ipykernel_37575/412556505.py:4: SettingWithCopyWarning: \n",
      "A value is trying to be set on a copy of a slice from a DataFrame.\n",
      "Try using .loc[row_indexer,col_indexer] = value instead\n",
      "\n",
      "See the caveats in the documentation: https://pandas.pydata.org/pandas-docs/stable/user_guide/indexing.html#returning-a-view-versus-a-copy\n",
      "  question_subset[['diabetes_diagnosis','overweight','CHF','coronary_heart_disease', 'heart_attack','insurance_coverage']] = question_subset[['diabetes_diagnosis','overweight','CHF','coronary_heart_disease', 'heart_attack','insurance_coverage']].replace([7.0], ['Refused'])\n"
     ]
    }
   ],
   "source": [
    "# replacing 1.0 for yes and 2.0 for no and 7 for refused or 9 for unknown\n",
    "question_subset[['diabetes_diagnosis','overweight','CHF','coronary_heart_disease', 'heart_attack','insurance_coverage']] = question_subset[['diabetes_diagnosis','overweight','CHF','coronary_heart_disease', 'heart_attack','insurance_coverage']].replace([1.0], ['yes'])\n",
    "question_subset[['diabetes_diagnosis','overweight','CHF','coronary_heart_disease', 'heart_attack','insurance_coverage']] = question_subset[['diabetes_diagnosis','overweight','CHF','coronary_heart_disease', 'heart_attack','insurance_coverage']].replace([9.0], ['Unknown'])\n",
    "question_subset[['diabetes_diagnosis','overweight','CHF','coronary_heart_disease', 'heart_attack','insurance_coverage']] = question_subset[['diabetes_diagnosis','overweight','CHF','coronary_heart_disease', 'heart_attack','insurance_coverage']].replace([7.0], ['Refused'])"
   ]
  },
  {
   "cell_type": "code",
   "execution_count": 25,
   "id": "fc8a8bc9",
   "metadata": {},
   "outputs": [
    {
     "name": "stderr",
     "output_type": "stream",
     "text": [
      "/var/folders/pz/3gh_6mq51_jd1_x487sw9b0c0000gn/T/ipykernel_37575/2701588271.py:2: SettingWithCopyWarning: \n",
      "A value is trying to be set on a copy of a slice from a DataFrame.\n",
      "Try using .loc[row_indexer,col_indexer] = value instead\n",
      "\n",
      "See the caveats in the documentation: https://pandas.pydata.org/pandas-docs/stable/user_guide/indexing.html#returning-a-view-versus-a-copy\n",
      "  question_subset[['diabetes_diagnosis','overweight','CHF','coronary_heart_disease', 'heart_attack', 'insurance_coverage']] = question_subset[['diabetes_diagnosis','overweight','CHF','coronary_heart_disease', 'heart_attack', 'insurance_coverage']].replace([2.0], ['no'])\n"
     ]
    }
   ],
   "source": [
    "# replacing 1.0 for yes and 2.0 for no\n",
    "question_subset[['diabetes_diagnosis','overweight','CHF','coronary_heart_disease', 'heart_attack', 'insurance_coverage']] = question_subset[['diabetes_diagnosis','overweight','CHF','coronary_heart_disease', 'heart_attack', 'insurance_coverage']].replace([2.0], ['no'])"
   ]
  },
  {
   "cell_type": "code",
   "execution_count": 26,
   "id": "edcfc9bf",
   "metadata": {},
   "outputs": [
    {
     "data": {
      "text/html": [
       "<div>\n",
       "<style scoped>\n",
       "    .dataframe tbody tr th:only-of-type {\n",
       "        vertical-align: middle;\n",
       "    }\n",
       "\n",
       "    .dataframe tbody tr th {\n",
       "        vertical-align: top;\n",
       "    }\n",
       "\n",
       "    .dataframe thead th {\n",
       "        text-align: right;\n",
       "    }\n",
       "</style>\n",
       "<table border=\"1\" class=\"dataframe\">\n",
       "  <thead>\n",
       "    <tr style=\"text-align: right;\">\n",
       "      <th></th>\n",
       "      <th>sequence_number</th>\n",
       "      <th>number_of_alc_drinks</th>\n",
       "      <th>diabetes_diagnosis</th>\n",
       "      <th>healthcare_use_this_year</th>\n",
       "      <th>overweight</th>\n",
       "      <th>CHF</th>\n",
       "      <th>coronary_heart_disease</th>\n",
       "      <th>heart_attack</th>\n",
       "      <th>weekly_meals_not_at_home</th>\n",
       "      <th>insurance_coverage</th>\n",
       "    </tr>\n",
       "  </thead>\n",
       "  <tbody>\n",
       "    <tr>\n",
       "      <th>0</th>\n",
       "      <td>73557</td>\n",
       "      <td>1.0</td>\n",
       "      <td>yes</td>\n",
       "      <td>5</td>\n",
       "      <td>yes</td>\n",
       "      <td>no</td>\n",
       "      <td>no</td>\n",
       "      <td>no</td>\n",
       "      <td>8.0</td>\n",
       "      <td>yes</td>\n",
       "    </tr>\n",
       "    <tr>\n",
       "      <th>1</th>\n",
       "      <td>73558</td>\n",
       "      <td>4.0</td>\n",
       "      <td>yes</td>\n",
       "      <td>5</td>\n",
       "      <td>no</td>\n",
       "      <td>no</td>\n",
       "      <td>no</td>\n",
       "      <td>no</td>\n",
       "      <td>0.0</td>\n",
       "      <td>no</td>\n",
       "    </tr>\n",
       "    <tr>\n",
       "      <th>2</th>\n",
       "      <td>73559</td>\n",
       "      <td>NaN</td>\n",
       "      <td>yes</td>\n",
       "      <td>2</td>\n",
       "      <td>no</td>\n",
       "      <td>no</td>\n",
       "      <td>no</td>\n",
       "      <td>no</td>\n",
       "      <td>1.0</td>\n",
       "      <td>yes</td>\n",
       "    </tr>\n",
       "    <tr>\n",
       "      <th>3</th>\n",
       "      <td>73560</td>\n",
       "      <td>NaN</td>\n",
       "      <td>no</td>\n",
       "      <td>1</td>\n",
       "      <td>NaN</td>\n",
       "      <td>NaN</td>\n",
       "      <td>NaN</td>\n",
       "      <td>NaN</td>\n",
       "      <td>0.0</td>\n",
       "      <td>yes</td>\n",
       "    </tr>\n",
       "    <tr>\n",
       "      <th>4</th>\n",
       "      <td>73561</td>\n",
       "      <td>NaN</td>\n",
       "      <td>no</td>\n",
       "      <td>4</td>\n",
       "      <td>no</td>\n",
       "      <td>no</td>\n",
       "      <td>no</td>\n",
       "      <td>no</td>\n",
       "      <td>0.0</td>\n",
       "      <td>yes</td>\n",
       "    </tr>\n",
       "    <tr>\n",
       "      <th>...</th>\n",
       "      <td>...</td>\n",
       "      <td>...</td>\n",
       "      <td>...</td>\n",
       "      <td>...</td>\n",
       "      <td>...</td>\n",
       "      <td>...</td>\n",
       "      <td>...</td>\n",
       "      <td>...</td>\n",
       "      <td>...</td>\n",
       "      <td>...</td>\n",
       "    </tr>\n",
       "    <tr>\n",
       "      <th>10170</th>\n",
       "      <td>83727</td>\n",
       "      <td>3.0</td>\n",
       "      <td>no</td>\n",
       "      <td>1</td>\n",
       "      <td>no</td>\n",
       "      <td>no</td>\n",
       "      <td>no</td>\n",
       "      <td>no</td>\n",
       "      <td>1.0</td>\n",
       "      <td>no</td>\n",
       "    </tr>\n",
       "    <tr>\n",
       "      <th>10171</th>\n",
       "      <td>83728</td>\n",
       "      <td>NaN</td>\n",
       "      <td>no</td>\n",
       "      <td>0</td>\n",
       "      <td>NaN</td>\n",
       "      <td>NaN</td>\n",
       "      <td>NaN</td>\n",
       "      <td>NaN</td>\n",
       "      <td>2.0</td>\n",
       "      <td>no</td>\n",
       "    </tr>\n",
       "    <tr>\n",
       "      <th>10172</th>\n",
       "      <td>83729</td>\n",
       "      <td>NaN</td>\n",
       "      <td>no</td>\n",
       "      <td>5</td>\n",
       "      <td>no</td>\n",
       "      <td>no</td>\n",
       "      <td>no</td>\n",
       "      <td>no</td>\n",
       "      <td>6.0</td>\n",
       "      <td>yes</td>\n",
       "    </tr>\n",
       "    <tr>\n",
       "      <th>10173</th>\n",
       "      <td>83730</td>\n",
       "      <td>NaN</td>\n",
       "      <td>no</td>\n",
       "      <td>0</td>\n",
       "      <td>NaN</td>\n",
       "      <td>NaN</td>\n",
       "      <td>NaN</td>\n",
       "      <td>NaN</td>\n",
       "      <td>0.0</td>\n",
       "      <td>yes</td>\n",
       "    </tr>\n",
       "    <tr>\n",
       "      <th>10174</th>\n",
       "      <td>83731</td>\n",
       "      <td>NaN</td>\n",
       "      <td>no</td>\n",
       "      <td>1</td>\n",
       "      <td>NaN</td>\n",
       "      <td>NaN</td>\n",
       "      <td>NaN</td>\n",
       "      <td>NaN</td>\n",
       "      <td>2.0</td>\n",
       "      <td>yes</td>\n",
       "    </tr>\n",
       "  </tbody>\n",
       "</table>\n",
       "<p>10175 rows × 10 columns</p>\n",
       "</div>"
      ],
      "text/plain": [
       "       sequence_number  number_of_alc_drinks diabetes_diagnosis   \n",
       "0                73557                   1.0                yes  \\\n",
       "1                73558                   4.0                yes   \n",
       "2                73559                   NaN                yes   \n",
       "3                73560                   NaN                 no   \n",
       "4                73561                   NaN                 no   \n",
       "...                ...                   ...                ...   \n",
       "10170            83727                   3.0                 no   \n",
       "10171            83728                   NaN                 no   \n",
       "10172            83729                   NaN                 no   \n",
       "10173            83730                   NaN                 no   \n",
       "10174            83731                   NaN                 no   \n",
       "\n",
       "       healthcare_use_this_year overweight  CHF coronary_heart_disease   \n",
       "0                             5        yes   no                     no  \\\n",
       "1                             5         no   no                     no   \n",
       "2                             2         no   no                     no   \n",
       "3                             1        NaN  NaN                    NaN   \n",
       "4                             4         no   no                     no   \n",
       "...                         ...        ...  ...                    ...   \n",
       "10170                         1         no   no                     no   \n",
       "10171                         0        NaN  NaN                    NaN   \n",
       "10172                         5         no   no                     no   \n",
       "10173                         0        NaN  NaN                    NaN   \n",
       "10174                         1        NaN  NaN                    NaN   \n",
       "\n",
       "      heart_attack  weekly_meals_not_at_home insurance_coverage  \n",
       "0               no                       8.0                yes  \n",
       "1               no                       0.0                 no  \n",
       "2               no                       1.0                yes  \n",
       "3              NaN                       0.0                yes  \n",
       "4               no                       0.0                yes  \n",
       "...            ...                       ...                ...  \n",
       "10170           no                       1.0                 no  \n",
       "10171          NaN                       2.0                 no  \n",
       "10172           no                       6.0                yes  \n",
       "10173          NaN                       0.0                yes  \n",
       "10174          NaN                       2.0                yes  \n",
       "\n",
       "[10175 rows x 10 columns]"
      ]
     },
     "execution_count": 26,
     "metadata": {},
     "output_type": "execute_result"
    }
   ],
   "source": [
    "question_subset"
   ]
  },
  {
   "cell_type": "code",
   "execution_count": 27,
   "id": "f1839f1b",
   "metadata": {},
   "outputs": [],
   "source": [
    "# join all tables using sqldf\n",
    "df = sqldf('''select * from demo_subset \n",
    "    left join exam_subset on demo_subset.sequence_number = exam_subset.sequence_number\n",
    "    left join question_subset on demo_subset.sequence_number = question_subset.sequence_number\n",
    "    left join diet_subset on demo_subset.sequence_number = diet_subset.sequence_number\n",
    "    left join med_subset on demo_subset.sequence_number = med_subset.sequence_number\n",
    "    left join lab_subset on demo_subset.sequence_number = lab_subset.sequence_number''')"
   ]
  },
  {
   "cell_type": "code",
   "execution_count": 28,
   "id": "2127b294",
   "metadata": {},
   "outputs": [
    {
     "data": {
      "text/plain": [
       "2587"
      ]
     },
     "execution_count": 28,
     "metadata": {},
     "output_type": "execute_result"
    }
   ],
   "source": [
    "# # of duplicates\n",
    "df.duplicated().sum()"
   ]
  },
  {
   "cell_type": "code",
   "execution_count": 29,
   "id": "cb40f825",
   "metadata": {},
   "outputs": [],
   "source": [
    "# dropping duplicates\n",
    "df = df.drop_duplicates().reset_index()"
   ]
  },
  {
   "cell_type": "code",
   "execution_count": 30,
   "id": "c980234b",
   "metadata": {},
   "outputs": [],
   "source": [
    "# dropping columns with same name (sequence number)\n",
    "df = df.loc[:,~df.columns.duplicated()]"
   ]
  },
  {
   "cell_type": "code",
   "execution_count": 31,
   "id": "0557a5f3",
   "metadata": {},
   "outputs": [
    {
     "name": "stdout",
     "output_type": "stream",
     "text": [
      "<class 'pandas.core.frame.DataFrame'>\n",
      "RangeIndex: 17607 entries, 0 to 17606\n",
      "Data columns (total 41 columns):\n",
      " #   Column                    Non-Null Count  Dtype  \n",
      "---  ------                    --------------  -----  \n",
      " 0   index                     17607 non-null  int64  \n",
      " 1   sequence_number           17058 non-null  float64\n",
      " 2   age                       17607 non-null  int64  \n",
      " 3   gender                    17607 non-null  int64  \n",
      " 4   race                      17607 non-null  object \n",
      " 5   annual_family_income      17411 non-null  object \n",
      " 6   BMI                       16072 non-null  float64\n",
      " 7   diastolic_bp              13531 non-null  float64\n",
      " 8   systolic_bp               13531 non-null  float64\n",
      " 9   pulse                     14405 non-null  float64\n",
      " 10  number_of_alc_drinks      7178 non-null   float64\n",
      " 11  diabetes_diagnosis        17195 non-null  object \n",
      " 12  healthcare_use_this_year  17607 non-null  int64  \n",
      " 13  overweight                13617 non-null  object \n",
      " 14  CHF                       12860 non-null  object \n",
      " 15  coronary_heart_disease    12860 non-null  object \n",
      " 16  heart_attack              12860 non-null  object \n",
      " 17  weekly_meals_not_at_home  17111 non-null  float64\n",
      " 18  insurance_coverage        17607 non-null  object \n",
      " 19  total_calories            14965 non-null  float64\n",
      " 20  total_carbs               14965 non-null  float64\n",
      " 21  total_protien             14965 non-null  float64\n",
      " 22  total_fiber               14965 non-null  float64\n",
      " 23  total_fat                 14965 non-null  float64\n",
      " 24  total_cholesterol         14965 non-null  float64\n",
      " 25  total_alcohol             14965 non-null  float64\n",
      " 26  total_sugar               14965 non-null  float64\n",
      " 27  total_sodium              14965 non-null  float64\n",
      " 28  number_of_prescriptions   11514 non-null  float64\n",
      " 29  diagnosis                 11246 non-null  object \n",
      " 30  pregnancy_test            1812 non-null   float64\n",
      " 31  calcium                   13194 non-null  float64\n",
      " 32  chloride                  13263 non-null  float64\n",
      " 33  creatine                  13240 non-null  float64\n",
      " 34  potassium                 13259 non-null  float64\n",
      " 35  sodium                    13263 non-null  float64\n",
      " 36  urea_nitrogen             13263 non-null  float64\n",
      " 37  albumin                   13263 non-null  float64\n",
      " 38  AST                       13248 non-null  float64\n",
      " 39  ALT                       13248 non-null  float64\n",
      " 40  total_cholesterol_lab     14466 non-null  float64\n",
      "dtypes: float64(28), int64(4), object(9)\n",
      "memory usage: 5.5+ MB\n"
     ]
    }
   ],
   "source": [
    "# data quality\n",
    "df.info()"
   ]
  },
  {
   "cell_type": "code",
   "execution_count": 32,
   "id": "7ca04473",
   "metadata": {},
   "outputs": [],
   "source": [
    "# droping nulls in BMI column - only wanting people with a measured BMI in study\n",
    "df = df.dropna(subset=['BMI'])"
   ]
  },
  {
   "cell_type": "code",
   "execution_count": 33,
   "id": "0e0f8766",
   "metadata": {},
   "outputs": [],
   "source": [
    "# droping nulls in calories column - only wanting people with a measured calories in study\n",
    "df = df.dropna(subset=['total_calories'])"
   ]
  },
  {
   "cell_type": "code",
   "execution_count": 34,
   "id": "b0183374",
   "metadata": {},
   "outputs": [],
   "source": [
    "# excluding pregnant wowmen\n",
    "df = df[(df.pregnancy_test != 1.0)]"
   ]
  },
  {
   "cell_type": "code",
   "execution_count": 35,
   "id": "b8d6fd3b",
   "metadata": {},
   "outputs": [],
   "source": [
    "# droping pregnacy column since no longer needed \n",
    "df = df.drop(columns='pregnancy_test')"
   ]
  },
  {
   "cell_type": "code",
   "execution_count": 36,
   "id": "7bd02a46",
   "metadata": {},
   "outputs": [],
   "source": [
    "# replacing female for 2 in gender column\n",
    "df[['gender']] = df[['gender']].replace([2], ['female'])"
   ]
  },
  {
   "cell_type": "code",
   "execution_count": 37,
   "id": "10ebe30b",
   "metadata": {},
   "outputs": [],
   "source": [
    "# replacing male for 1 in gender column\n",
    "df[['gender']] = df[['gender']].replace([1], ['male'])"
   ]
  },
  {
   "cell_type": "code",
   "execution_count": 38,
   "id": "3f41fb2a",
   "metadata": {},
   "outputs": [
    {
     "data": {
      "text/plain": [
       "array([69, 54, 72,  9, 73, 56, 61, 65, 26, 76, 10, 33, 16, 32, 18, 12, 38,\n",
       "       50,  7, 13, 28,  4, 14, 11, 35,  2,  6, 29,  3, 23, 58, 57, 20, 37,\n",
       "       75, 43, 60, 55, 62, 36, 80, 63, 71, 67, 64,  8, 46, 44, 70, 59, 25,\n",
       "        5, 24, 30, 49, 45, 51, 77, 78, 66, 47, 48, 53, 15, 17, 31, 42, 21,\n",
       "       39, 19, 68, 52, 34, 40, 27, 22, 41, 79, 74])"
      ]
     },
     "execution_count": 38,
     "metadata": {},
     "output_type": "execute_result"
    }
   ],
   "source": [
    "df.age.unique()"
   ]
  },
  {
   "cell_type": "code",
   "execution_count": 39,
   "id": "db9ac73e",
   "metadata": {},
   "outputs": [],
   "source": [
    "# replacing number codes for actual # of times participants used healthcare past year\n",
    "df[['healthcare_use_this_year']] = df[['healthcare_use_this_year']].replace([1], ['1'])\n",
    "df[['healthcare_use_this_year']] = df[['healthcare_use_this_year']].replace([0], ['none'])\n",
    "df[['healthcare_use_this_year']] = df[['healthcare_use_this_year']].replace([2], ['2-3'])\n",
    "df[['healthcare_use_this_year']] = df[['healthcare_use_this_year']].replace([3], ['4-5'])\n",
    "df[['healthcare_use_this_year']] = df[['healthcare_use_this_year']].replace([4], ['6-7'])\n",
    "df[['healthcare_use_this_year']] = df[['healthcare_use_this_year']].replace([5], ['8-9'])\n",
    "df[['healthcare_use_this_year']] = df[['healthcare_use_this_year']].replace([6], ['10-12'])\n",
    "df[['healthcare_use_this_year']] = df[['healthcare_use_this_year']].replace([7], ['13-15'])\n",
    "df[['healthcare_use_this_year']] = df[['healthcare_use_this_year']].replace([8], ['16 or more'])\n",
    "df[['healthcare_use_this_year']] = df[['healthcare_use_this_year']].replace([77], ['refused'])\n",
    "df[['healthcare_use_this_year']] = df[['healthcare_use_this_year']].replace([99], ['Unknown'])"
   ]
  },
  {
   "cell_type": "code",
   "execution_count": 40,
   "id": "90e813f0",
   "metadata": {},
   "outputs": [],
   "source": [
    "# replacing all diabetes diagnoses with 3 with 'borderline'\n",
    "df[['diabetes_diagnosis']] = df[['diabetes_diagnosis']].replace(['3.0'], ['borderline'])"
   ]
  },
  {
   "cell_type": "code",
   "execution_count": 41,
   "id": "8aeb8bc4",
   "metadata": {},
   "outputs": [],
   "source": [
    "# replacing number of drinks 999 with unknown\n",
    "df[['number_of_alc_drinks']] = df[['number_of_alc_drinks']].replace([999], ['Unknown'])"
   ]
  },
  {
   "cell_type": "code",
   "execution_count": 42,
   "id": "f720b216",
   "metadata": {},
   "outputs": [],
   "source": [
    "# replacing meals not at home 9999 with unknown, 7777 with refused, 0 with none, and 5555 with mroe than 21 meals\n",
    "df[['weekly_meals_not_at_home']] = df[['weekly_meals_not_at_home']].replace([9999], ['Unknown'])\n",
    "df[['weekly_meals_not_at_home']] = df[['weekly_meals_not_at_home']].replace([7777], ['Refused'])\n",
    "df[['weekly_meals_not_at_home']] = df[['weekly_meals_not_at_home']].replace([5555], ['More than 21 meals'])\n",
    "df[['weekly_meals_not_at_home']] = df[['weekly_meals_not_at_home']].replace([0], ['None'])"
   ]
  },
  {
   "cell_type": "code",
   "execution_count": 43,
   "id": "aa275107",
   "metadata": {},
   "outputs": [],
   "source": [
    "# excluding ages below 18\n",
    "df = df[df.age >= 18]"
   ]
  },
  {
   "cell_type": "code",
   "execution_count": 44,
   "id": "ff0406eb",
   "metadata": {},
   "outputs": [
    {
     "data": {
      "text/plain": [
       "array(['yes', 'no', 'Unknown', 'Refused'], dtype=object)"
      ]
     },
     "execution_count": 44,
     "metadata": {},
     "output_type": "execute_result"
    }
   ],
   "source": [
    "# testing various columns unique values - making sure all values are accounted for\n",
    "df.insurance_coverage.unique()"
   ]
  },
  {
   "cell_type": "code",
   "execution_count": 45,
   "id": "06f7fb76",
   "metadata": {},
   "outputs": [
    {
     "data": {
      "text/plain": [
       "index                          0\n",
       "sequence_number                0\n",
       "age                            0\n",
       "gender                         0\n",
       "race                           0\n",
       "annual_family_income          91\n",
       "BMI                            0\n",
       "diastolic_bp                 911\n",
       "systolic_bp                  911\n",
       "pulse                        260\n",
       "number_of_alc_drinks        4662\n",
       "diabetes_diagnosis             0\n",
       "healthcare_use_this_year       0\n",
       "overweight                     0\n",
       "CHF                          326\n",
       "coronary_heart_disease       326\n",
       "heart_attack                 326\n",
       "weekly_meals_not_at_home       0\n",
       "insurance_coverage             0\n",
       "total_calories                 0\n",
       "total_carbs                    0\n",
       "total_protien                  0\n",
       "total_fiber                    0\n",
       "total_fat                      0\n",
       "total_cholesterol              0\n",
       "total_alcohol                  0\n",
       "total_sugar                    0\n",
       "total_sodium                   0\n",
       "number_of_prescriptions     2349\n",
       "diagnosis                   2546\n",
       "calcium                      524\n",
       "chloride                     471\n",
       "creatine                     492\n",
       "potassium                    475\n",
       "sodium                       471\n",
       "urea_nitrogen                471\n",
       "albumin                      471\n",
       "AST                          486\n",
       "ALT                          486\n",
       "total_cholesterol_lab        416\n",
       "dtype: int64"
      ]
     },
     "execution_count": 45,
     "metadata": {},
     "output_type": "execute_result"
    }
   ],
   "source": [
    "# rechecking null values\n",
    "df.isna().sum()"
   ]
  },
  {
   "cell_type": "code",
   "execution_count": 46,
   "id": "cde0d42f",
   "metadata": {},
   "outputs": [],
   "source": [
    "df['year'] = '2013-2014'"
   ]
  },
  {
   "cell_type": "code",
   "execution_count": 47,
   "id": "3ff88b3c",
   "metadata": {},
   "outputs": [],
   "source": [
    "df.to_csv('healthandnutrtion_2013-2014.csv')"
   ]
  },
  {
   "cell_type": "code",
   "execution_count": 48,
   "id": "07df92fa",
   "metadata": {},
   "outputs": [
    {
     "data": {
      "text/plain": [
       "array([69, 54, 72, 73, 56, 61, 65, 26, 76, 33, 32, 18, 38, 50, 28, 35, 29,\n",
       "       23, 58, 57, 20, 37, 75, 43, 60, 55, 62, 36, 80, 63, 71, 67, 64, 46,\n",
       "       44, 70, 59, 25, 24, 30, 49, 45, 51, 77, 78, 66, 47, 48, 53, 31, 42,\n",
       "       21, 39, 19, 68, 52, 34, 40, 27, 22, 41, 79, 74])"
      ]
     },
     "execution_count": 48,
     "metadata": {},
     "output_type": "execute_result"
    }
   ],
   "source": [
    "df.age.unique()"
   ]
  },
  {
   "cell_type": "code",
   "execution_count": 49,
   "id": "85c89bc4",
   "metadata": {},
   "outputs": [],
   "source": [
    "df_20112012 = pd.read_csv('/Users/kaylalocklear/Downloads/archive-3/Nhanes_2011_2012.csv')"
   ]
  },
  {
   "cell_type": "code",
   "execution_count": 50,
   "id": "6f8f589f",
   "metadata": {},
   "outputs": [],
   "source": [
    "subset20112012 = df_20112012[['SEQN','RIDAGEYR','RIAGENDR','RIDRETH3','INDFMIN2','DR1TKCAL','DR1TCARB','DR1TPROT','DR1TFIBE','DR1TTFAT','DR1TCHOL',\n",
    "                   'DR1TALCO','DR1TSUGR', 'DR1TSODI','BMXBMI','LBXTC','LBDGLUSI','DIQ010']]"
   ]
  },
  {
   "cell_type": "code",
   "execution_count": 51,
   "id": "e1e3e4c4",
   "metadata": {},
   "outputs": [],
   "source": [
    "subset20112012.columns = ['sequence_number','age', 'gender','race','annual_family_income','total_calories','total_carbs','total_protien', 'total_fiber',\n",
    "                       'total_fat', 'total_cholesterol','total_alcohol','total_sugar',\n",
    "                       'total_sodium','BMI', 'total_cholesterol_lab','fasting_glucose','diabetes_diagnosis']"
   ]
  },
  {
   "cell_type": "code",
   "execution_count": 52,
   "id": "df14140a",
   "metadata": {},
   "outputs": [
    {
     "name": "stderr",
     "output_type": "stream",
     "text": [
      "/var/folders/pz/3gh_6mq51_jd1_x487sw9b0c0000gn/T/ipykernel_37575/696341464.py:1: SettingWithCopyWarning: \n",
      "A value is trying to be set on a copy of a slice from a DataFrame.\n",
      "Try using .loc[row_indexer,col_indexer] = value instead\n",
      "\n",
      "See the caveats in the documentation: https://pandas.pydata.org/pandas-docs/stable/user_guide/indexing.html#returning-a-view-versus-a-copy\n",
      "  subset20112012['year'] = '2011-2012'\n"
     ]
    }
   ],
   "source": [
    "subset20112012['year'] = '2011-2012'"
   ]
  },
  {
   "cell_type": "code",
   "execution_count": 53,
   "id": "d85a33fe",
   "metadata": {},
   "outputs": [],
   "source": [
    "df_20092010 = pd.read_csv('/Users/kaylalocklear/Downloads/archive-3/Nhanes_2009_2010.csv')\n"
   ]
  },
  {
   "cell_type": "code",
   "execution_count": 54,
   "id": "213c4507",
   "metadata": {},
   "outputs": [],
   "source": [
    "subset20092010 = df_20092010[['SEQN','RIDAGEYR','RIAGENDR','RIDRETH1','INDFMIN2','DR1TKCAL','DR1TCARB','DR1TPROT','DR1TFIBE','DR1TTFAT','DR1TCHOL',\n",
    "                   'DR1TALCO','DR1TSUGR', 'DR1TSODI','BMXBMI','LBXTC','LBDGLUSI','DIQ010']]\n"
   ]
  },
  {
   "cell_type": "code",
   "execution_count": 55,
   "id": "4ed077f6",
   "metadata": {},
   "outputs": [],
   "source": [
    "subset20092010.columns = ['sequence_number','age', 'gender','race','annual_family_income','total_calories','total_carbs','total_protien', 'total_fiber',\n",
    "                       'total_fat', 'total_cholesterol','total_alcohol','total_sugar',\n",
    "                       'total_sodium','BMI', 'total_cholesterol_lab','fasting_glucose','diabetes_diagnosis']"
   ]
  },
  {
   "cell_type": "code",
   "execution_count": 56,
   "id": "07c8b135",
   "metadata": {},
   "outputs": [],
   "source": [
    "df_20072008 = pd.read_csv('/Users/kaylalocklear/Downloads/archive-3/Nhanes_2007_2008.csv')\n"
   ]
  },
  {
   "cell_type": "code",
   "execution_count": 57,
   "id": "9b553578",
   "metadata": {},
   "outputs": [],
   "source": [
    "subset20072008 = df_20072008[['SEQN','RIDAGEYR','RIAGENDR','RIDRETH1','INDFMIN2','DR1TKCAL','DR1TCARB','DR1TPROT','DR1TFIBE','DR1TTFAT','DR1TCHOL',\n",
    "                   'DR1TALCO','DR1TSUGR', 'DR1TSODI','BMXBMI','LBXTC','LBDGLUSI','DIQ010']]"
   ]
  },
  {
   "cell_type": "code",
   "execution_count": 58,
   "id": "109ddc89",
   "metadata": {},
   "outputs": [],
   "source": [
    "subset20072008.columns = ['sequence_number','age', 'gender','race','annual_family_income','total_calories','total_carbs','total_protien', 'total_fiber',\n",
    "                       'total_fat', 'total_cholesterol','total_alcohol','total_sugar',\n",
    "                       'total_sodium','BMI', 'total_cholesterol_lab','fasting_glucose','diabetes_diagnosis']"
   ]
  },
  {
   "cell_type": "code",
   "execution_count": 59,
   "id": "332f1cf7",
   "metadata": {},
   "outputs": [
    {
     "name": "stderr",
     "output_type": "stream",
     "text": [
      "/var/folders/pz/3gh_6mq51_jd1_x487sw9b0c0000gn/T/ipykernel_37575/4208586409.py:1: SettingWithCopyWarning: \n",
      "A value is trying to be set on a copy of a slice from a DataFrame.\n",
      "Try using .loc[row_indexer,col_indexer] = value instead\n",
      "\n",
      "See the caveats in the documentation: https://pandas.pydata.org/pandas-docs/stable/user_guide/indexing.html#returning-a-view-versus-a-copy\n",
      "  subset20072008['year'] = '2007-2008'\n"
     ]
    }
   ],
   "source": [
    "subset20072008['year'] = '2007-2008'"
   ]
  },
  {
   "cell_type": "code",
   "execution_count": 60,
   "id": "4f3b4217",
   "metadata": {},
   "outputs": [],
   "source": [
    "df_20052006 = pd.read_csv('/Users/kaylalocklear/Downloads/archive-3/Nhanes_2005_2006.csv')\n"
   ]
  },
  {
   "cell_type": "code",
   "execution_count": 61,
   "id": "199022d3",
   "metadata": {},
   "outputs": [],
   "source": [
    "subset20052006 = df_20052006[['SEQN','RIDAGEYR','RIAGENDR','RIDRETH1','INDFMINC','DR1TKCAL','DR1TCARB','DR1TPROT','DR1TFIBE','DR1TTFAT','DR1TCHOL',\n",
    "                   'DR1TALCO','DR1TSUGR', 'DR1TSODI','BMXBMI','LBXTC','LBDGLUSI','DIQ010']]\n"
   ]
  },
  {
   "cell_type": "code",
   "execution_count": 62,
   "id": "f98ba0d3",
   "metadata": {},
   "outputs": [],
   "source": [
    "subset20052006.columns = ['sequence_number','age', 'gender','race','annual_family_income','total_calories','total_carbs','total_protien', 'total_fiber',\n",
    "                       'total_fat', 'total_cholesterol','total_alcohol','total_sugar',\n",
    "                       'total_sodium','BMI', 'total_cholesterol_lab','fasting_glucose','diabetes_diagnosis']"
   ]
  },
  {
   "cell_type": "code",
   "execution_count": 63,
   "id": "c12e3d9b",
   "metadata": {},
   "outputs": [
    {
     "name": "stderr",
     "output_type": "stream",
     "text": [
      "/var/folders/pz/3gh_6mq51_jd1_x487sw9b0c0000gn/T/ipykernel_37575/221243998.py:1: SettingWithCopyWarning: \n",
      "A value is trying to be set on a copy of a slice from a DataFrame.\n",
      "Try using .loc[row_indexer,col_indexer] = value instead\n",
      "\n",
      "See the caveats in the documentation: https://pandas.pydata.org/pandas-docs/stable/user_guide/indexing.html#returning-a-view-versus-a-copy\n",
      "  subset20052006['year'] = '2005-2006'\n"
     ]
    }
   ],
   "source": [
    "subset20052006['year'] = '2005-2006'"
   ]
  },
  {
   "cell_type": "code",
   "execution_count": 64,
   "id": "45019e0c",
   "metadata": {},
   "outputs": [
    {
     "name": "stderr",
     "output_type": "stream",
     "text": [
      "/var/folders/pz/3gh_6mq51_jd1_x487sw9b0c0000gn/T/ipykernel_37575/2229745487.py:1: SettingWithCopyWarning: \n",
      "A value is trying to be set on a copy of a slice from a DataFrame.\n",
      "Try using .loc[row_indexer,col_indexer] = value instead\n",
      "\n",
      "See the caveats in the documentation: https://pandas.pydata.org/pandas-docs/stable/user_guide/indexing.html#returning-a-view-versus-a-copy\n",
      "  subset20052006[['annual_family_income']] = subset20052006[['annual_family_income']].replace([1], ['0 - 4,999'])\n",
      "/var/folders/pz/3gh_6mq51_jd1_x487sw9b0c0000gn/T/ipykernel_37575/2229745487.py:2: SettingWithCopyWarning: \n",
      "A value is trying to be set on a copy of a slice from a DataFrame.\n",
      "Try using .loc[row_indexer,col_indexer] = value instead\n",
      "\n",
      "See the caveats in the documentation: https://pandas.pydata.org/pandas-docs/stable/user_guide/indexing.html#returning-a-view-versus-a-copy\n",
      "  subset20052006[['annual_family_income']] = subset20052006[['annual_family_income']].replace([2], ['5,000 - 9,999'])\n",
      "/var/folders/pz/3gh_6mq51_jd1_x487sw9b0c0000gn/T/ipykernel_37575/2229745487.py:3: SettingWithCopyWarning: \n",
      "A value is trying to be set on a copy of a slice from a DataFrame.\n",
      "Try using .loc[row_indexer,col_indexer] = value instead\n",
      "\n",
      "See the caveats in the documentation: https://pandas.pydata.org/pandas-docs/stable/user_guide/indexing.html#returning-a-view-versus-a-copy\n",
      "  subset20052006[['annual_family_income']] = subset20052006[['annual_family_income']].replace([3], ['10,000 - 14,999'])\n",
      "/var/folders/pz/3gh_6mq51_jd1_x487sw9b0c0000gn/T/ipykernel_37575/2229745487.py:4: SettingWithCopyWarning: \n",
      "A value is trying to be set on a copy of a slice from a DataFrame.\n",
      "Try using .loc[row_indexer,col_indexer] = value instead\n",
      "\n",
      "See the caveats in the documentation: https://pandas.pydata.org/pandas-docs/stable/user_guide/indexing.html#returning-a-view-versus-a-copy\n",
      "  subset20052006[['annual_family_income']] = subset20052006[['annual_family_income']].replace([4], ['15,000 - 19,999'])\n",
      "/var/folders/pz/3gh_6mq51_jd1_x487sw9b0c0000gn/T/ipykernel_37575/2229745487.py:5: SettingWithCopyWarning: \n",
      "A value is trying to be set on a copy of a slice from a DataFrame.\n",
      "Try using .loc[row_indexer,col_indexer] = value instead\n",
      "\n",
      "See the caveats in the documentation: https://pandas.pydata.org/pandas-docs/stable/user_guide/indexing.html#returning-a-view-versus-a-copy\n",
      "  subset20052006[['annual_family_income']] = subset20052006[['annual_family_income']].replace([5], ['20,000 - 24,999'])\n",
      "/var/folders/pz/3gh_6mq51_jd1_x487sw9b0c0000gn/T/ipykernel_37575/2229745487.py:6: SettingWithCopyWarning: \n",
      "A value is trying to be set on a copy of a slice from a DataFrame.\n",
      "Try using .loc[row_indexer,col_indexer] = value instead\n",
      "\n",
      "See the caveats in the documentation: https://pandas.pydata.org/pandas-docs/stable/user_guide/indexing.html#returning-a-view-versus-a-copy\n",
      "  subset20052006[['annual_family_income']] = subset20052006[['annual_family_income']].replace([6], ['25,000 - 34,999'])\n",
      "/var/folders/pz/3gh_6mq51_jd1_x487sw9b0c0000gn/T/ipykernel_37575/2229745487.py:7: SettingWithCopyWarning: \n",
      "A value is trying to be set on a copy of a slice from a DataFrame.\n",
      "Try using .loc[row_indexer,col_indexer] = value instead\n",
      "\n",
      "See the caveats in the documentation: https://pandas.pydata.org/pandas-docs/stable/user_guide/indexing.html#returning-a-view-versus-a-copy\n",
      "  subset20052006[['annual_family_income']] = subset20052006[['annual_family_income']].replace([7], ['35,000 - 44,999'])\n",
      "/var/folders/pz/3gh_6mq51_jd1_x487sw9b0c0000gn/T/ipykernel_37575/2229745487.py:8: SettingWithCopyWarning: \n",
      "A value is trying to be set on a copy of a slice from a DataFrame.\n",
      "Try using .loc[row_indexer,col_indexer] = value instead\n",
      "\n",
      "See the caveats in the documentation: https://pandas.pydata.org/pandas-docs/stable/user_guide/indexing.html#returning-a-view-versus-a-copy\n",
      "  subset20052006[['annual_family_income']] = subset20052006[['annual_family_income']].replace([8], ['45,000 - 54,999'])\n",
      "/var/folders/pz/3gh_6mq51_jd1_x487sw9b0c0000gn/T/ipykernel_37575/2229745487.py:9: SettingWithCopyWarning: \n",
      "A value is trying to be set on a copy of a slice from a DataFrame.\n",
      "Try using .loc[row_indexer,col_indexer] = value instead\n",
      "\n",
      "See the caveats in the documentation: https://pandas.pydata.org/pandas-docs/stable/user_guide/indexing.html#returning-a-view-versus-a-copy\n",
      "  subset20052006[['annual_family_income']] = subset20052006[['annual_family_income']].replace([9], ['55,000 - 64,999'])\n",
      "/var/folders/pz/3gh_6mq51_jd1_x487sw9b0c0000gn/T/ipykernel_37575/2229745487.py:10: SettingWithCopyWarning: \n",
      "A value is trying to be set on a copy of a slice from a DataFrame.\n",
      "Try using .loc[row_indexer,col_indexer] = value instead\n",
      "\n",
      "See the caveats in the documentation: https://pandas.pydata.org/pandas-docs/stable/user_guide/indexing.html#returning-a-view-versus-a-copy\n",
      "  subset20052006[['annual_family_income']] = subset20052006[['annual_family_income']].replace([10], ['65,000 - 74,999'])\n",
      "/var/folders/pz/3gh_6mq51_jd1_x487sw9b0c0000gn/T/ipykernel_37575/2229745487.py:11: SettingWithCopyWarning: \n",
      "A value is trying to be set on a copy of a slice from a DataFrame.\n",
      "Try using .loc[row_indexer,col_indexer] = value instead\n",
      "\n",
      "See the caveats in the documentation: https://pandas.pydata.org/pandas-docs/stable/user_guide/indexing.html#returning-a-view-versus-a-copy\n",
      "  subset20052006[['annual_family_income']] = subset20052006[['annual_family_income']].replace([11], ['75,000 and Over'])\n",
      "/var/folders/pz/3gh_6mq51_jd1_x487sw9b0c0000gn/T/ipykernel_37575/2229745487.py:12: SettingWithCopyWarning: \n",
      "A value is trying to be set on a copy of a slice from a DataFrame.\n",
      "Try using .loc[row_indexer,col_indexer] = value instead\n",
      "\n",
      "See the caveats in the documentation: https://pandas.pydata.org/pandas-docs/stable/user_guide/indexing.html#returning-a-view-versus-a-copy\n",
      "  subset20052006[['annual_family_income']] = subset20052006[['annual_family_income']].replace([12], ['20,000 and Over'])\n",
      "/var/folders/pz/3gh_6mq51_jd1_x487sw9b0c0000gn/T/ipykernel_37575/2229745487.py:13: SettingWithCopyWarning: \n",
      "A value is trying to be set on a copy of a slice from a DataFrame.\n",
      "Try using .loc[row_indexer,col_indexer] = value instead\n",
      "\n",
      "See the caveats in the documentation: https://pandas.pydata.org/pandas-docs/stable/user_guide/indexing.html#returning-a-view-versus-a-copy\n",
      "  subset20052006[['annual_family_income']] = subset20052006[['annual_family_income']].replace([13], ['Under 20,000'])\n",
      "/var/folders/pz/3gh_6mq51_jd1_x487sw9b0c0000gn/T/ipykernel_37575/2229745487.py:14: SettingWithCopyWarning: \n",
      "A value is trying to be set on a copy of a slice from a DataFrame.\n",
      "Try using .loc[row_indexer,col_indexer] = value instead\n",
      "\n",
      "See the caveats in the documentation: https://pandas.pydata.org/pandas-docs/stable/user_guide/indexing.html#returning-a-view-versus-a-copy\n",
      "  subset20052006[['annual_family_income']] = subset20052006[['annual_family_income']].replace([77], ['Refused'])\n",
      "/var/folders/pz/3gh_6mq51_jd1_x487sw9b0c0000gn/T/ipykernel_37575/2229745487.py:15: SettingWithCopyWarning: \n",
      "A value is trying to be set on a copy of a slice from a DataFrame.\n",
      "Try using .loc[row_indexer,col_indexer] = value instead\n",
      "\n",
      "See the caveats in the documentation: https://pandas.pydata.org/pandas-docs/stable/user_guide/indexing.html#returning-a-view-versus-a-copy\n",
      "  subset20052006[['annual_family_income']] = subset20052006[['annual_family_income']].replace([99], ['Do not know'])\n"
     ]
    }
   ],
   "source": [
    "subset20052006[['annual_family_income']] = subset20052006[['annual_family_income']].replace([1], ['0 - 4,999'])\n",
    "subset20052006[['annual_family_income']] = subset20052006[['annual_family_income']].replace([2], ['5,000 - 9,999'])\n",
    "subset20052006[['annual_family_income']] = subset20052006[['annual_family_income']].replace([3], ['10,000 - 14,999'])\n",
    "subset20052006[['annual_family_income']] = subset20052006[['annual_family_income']].replace([4], ['15,000 - 19,999'])\n",
    "subset20052006[['annual_family_income']] = subset20052006[['annual_family_income']].replace([5], ['20,000 - 24,999'])\n",
    "subset20052006[['annual_family_income']] = subset20052006[['annual_family_income']].replace([6], ['25,000 - 34,999'])\n",
    "subset20052006[['annual_family_income']] = subset20052006[['annual_family_income']].replace([7], ['35,000 - 44,999'])\n",
    "subset20052006[['annual_family_income']] = subset20052006[['annual_family_income']].replace([8], ['45,000 - 54,999'])\n",
    "subset20052006[['annual_family_income']] = subset20052006[['annual_family_income']].replace([9], ['55,000 - 64,999'])\n",
    "subset20052006[['annual_family_income']] = subset20052006[['annual_family_income']].replace([10], ['65,000 - 74,999'])\n",
    "subset20052006[['annual_family_income']] = subset20052006[['annual_family_income']].replace([11], ['75,000 and Over'])\n",
    "subset20052006[['annual_family_income']] = subset20052006[['annual_family_income']].replace([12], ['20,000 and Over'])\n",
    "subset20052006[['annual_family_income']] = subset20052006[['annual_family_income']].replace([13], ['Under 20,000'])\n",
    "subset20052006[['annual_family_income']] = subset20052006[['annual_family_income']].replace([77], ['Refused'])\n",
    "subset20052006[['annual_family_income']] = subset20052006[['annual_family_income']].replace([99], ['Do not know'])"
   ]
  },
  {
   "cell_type": "code",
   "execution_count": 65,
   "id": "821e5674",
   "metadata": {},
   "outputs": [],
   "source": [
    "df2 = pd.concat([subset20052006,subset20072008, subset20092010, subset20112012], axis=0)"
   ]
  },
  {
   "cell_type": "code",
   "execution_count": 66,
   "id": "f4c68f27",
   "metadata": {},
   "outputs": [],
   "source": [
    "# replacing 1.0 for yes and 2.0 for no and 7 for refused or 9 for unknown\n",
    "df2[['diabetes_diagnosis']] = df2[['diabetes_diagnosis']].replace([1.0], ['yes'])\n",
    "df2[['diabetes_diagnosis']] = df2[['diabetes_diagnosis']].replace([9.0], ['Unknown'])\n",
    "df2[['diabetes_diagnosis']] = df2[['diabetes_diagnosis']].replace([7.0], ['Refused'])\n",
    "df2[['diabetes_diagnosis']] = df2[['diabetes_diagnosis']].replace([2.0], ['no'])\n",
    "df2[['diabetes_diagnosis']] = df2[['diabetes_diagnosis']].replace([3.0], ['borderline'])"
   ]
  },
  {
   "cell_type": "code",
   "execution_count": 67,
   "id": "a44483e1",
   "metadata": {},
   "outputs": [],
   "source": [
    "df2[['race']] = df2[['race']].replace([1], ['Mexican American'])\n",
    "df2[['race']] = df2[['race']].replace([2], ['Other Hispanic'])\n",
    "df2[['race']] = df2[['race']].replace([3], ['White'])\n",
    "df2[['race']] = df2[['race']].replace([4], ['African American'])\n",
    "df2[['race']] = df2[['race']].replace([5], ['Other/Multi'])\n",
    "df2[['race']] = df2[['race']].replace([6], ['Asian'])\n",
    "df2[['race']] = df2[['race']].replace([7], ['Other/Multi'])"
   ]
  },
  {
   "cell_type": "code",
   "execution_count": 68,
   "id": "2b895ce1",
   "metadata": {},
   "outputs": [],
   "source": [
    "df2[['annual_family_income']] = df2[['annual_family_income']].replace([1], ['0 - 4,999'])\n",
    "df2[['annual_family_income']] = df2[['annual_family_income']].replace([2], ['5,000 - 9,999'])\n",
    "df2[['annual_family_income']] = df2[['annual_family_income']].replace([3], ['10,000 - 14,999'])\n",
    "df2[['annual_family_income']] = df2[['annual_family_income']].replace([4], ['15,000 - 19,999'])\n",
    "df2[['annual_family_income']] = df2[['annual_family_income']].replace([5], ['20,000 - 24,999'])\n",
    "df2[['annual_family_income']] = df2[['annual_family_income']].replace([6], ['25,000 - 34,999'])\n",
    "df2[['annual_family_income']] = df2[['annual_family_income']].replace([7], ['35,000 - 44,999'])\n",
    "df2[['annual_family_income']] = df2[['annual_family_income']].replace([8], ['45,000 - 54,999'])\n",
    "df2[['annual_family_income']] = df2[['annual_family_income']].replace([9], ['55,000 - 64,999'])\n",
    "df2[['annual_family_income']] = df2[['annual_family_income']].replace([10], ['65,000 - 74,999'])\n",
    "df2[['annual_family_income']] = df2[['annual_family_income']].replace([12], ['20,000 and Over'])\n",
    "df2[['annual_family_income']] = df2[['annual_family_income']].replace([13], ['Under 20,000'])\n",
    "df2[['annual_family_income']] = df2[['annual_family_income']].replace([14], ['75,000 and Over'])\n",
    "df2[['annual_family_income']] = df2[['annual_family_income']].replace([15], ['100,000 and Over'])\n",
    "df2[['annual_family_income']] = df2[['annual_family_income']].replace([77], ['Refused'])\n",
    "df2[['annual_family_income']] = df2[['annual_family_income']].replace([99], ['Do not know'])\n",
    "\n",
    "\n"
   ]
  },
  {
   "cell_type": "code",
   "execution_count": 69,
   "id": "f379a303",
   "metadata": {},
   "outputs": [],
   "source": [
    "df2 = df2[df2.age >= 18]\n"
   ]
  },
  {
   "cell_type": "code",
   "execution_count": 70,
   "id": "1c8b4ec2",
   "metadata": {},
   "outputs": [],
   "source": [
    "df2[['gender']] = df2[['gender']].replace([2], ['female'])\n",
    "df2[['gender']] = df2[['gender']].replace([1], ['male'])"
   ]
  },
  {
   "cell_type": "code",
   "execution_count": 71,
   "id": "ff383110",
   "metadata": {},
   "outputs": [],
   "source": [
    "df2 = df2.dropna(subset=['BMI'])\n",
    "df2 = df2.dropna(subset=['total_calories'])"
   ]
  },
  {
   "cell_type": "code",
   "execution_count": 72,
   "id": "48e6430b",
   "metadata": {},
   "outputs": [],
   "source": [
    "df2 = pd.concat([df, df2], axis=0)"
   ]
  },
  {
   "cell_type": "code",
   "execution_count": 73,
   "id": "81e517e3",
   "metadata": {},
   "outputs": [],
   "source": [
    "df2 = df2.reset_index()"
   ]
  },
  {
   "cell_type": "code",
   "execution_count": 74,
   "id": "8b29a9c9",
   "metadata": {},
   "outputs": [
    {
     "data": {
      "text/html": [
       "<div>\n",
       "<style scoped>\n",
       "    .dataframe tbody tr th:only-of-type {\n",
       "        vertical-align: middle;\n",
       "    }\n",
       "\n",
       "    .dataframe tbody tr th {\n",
       "        vertical-align: top;\n",
       "    }\n",
       "\n",
       "    .dataframe thead th {\n",
       "        text-align: right;\n",
       "    }\n",
       "</style>\n",
       "<table border=\"1\" class=\"dataframe\">\n",
       "  <thead>\n",
       "    <tr style=\"text-align: right;\">\n",
       "      <th></th>\n",
       "      <th>level_0</th>\n",
       "      <th>index</th>\n",
       "      <th>sequence_number</th>\n",
       "      <th>age</th>\n",
       "      <th>gender</th>\n",
       "      <th>race</th>\n",
       "      <th>annual_family_income</th>\n",
       "      <th>BMI</th>\n",
       "      <th>diastolic_bp</th>\n",
       "      <th>systolic_bp</th>\n",
       "      <th>...</th>\n",
       "      <th>creatine</th>\n",
       "      <th>potassium</th>\n",
       "      <th>sodium</th>\n",
       "      <th>urea_nitrogen</th>\n",
       "      <th>albumin</th>\n",
       "      <th>AST</th>\n",
       "      <th>ALT</th>\n",
       "      <th>total_cholesterol_lab</th>\n",
       "      <th>year</th>\n",
       "      <th>fasting_glucose</th>\n",
       "    </tr>\n",
       "  </thead>\n",
       "  <tbody>\n",
       "    <tr>\n",
       "      <th>0</th>\n",
       "      <td>0</td>\n",
       "      <td>0.0</td>\n",
       "      <td>73557.0</td>\n",
       "      <td>69.0</td>\n",
       "      <td>male</td>\n",
       "      <td>African American</td>\n",
       "      <td>15,000 - 19,999</td>\n",
       "      <td>26.7</td>\n",
       "      <td>72.0</td>\n",
       "      <td>122.0</td>\n",
       "      <td>...</td>\n",
       "      <td>174.0</td>\n",
       "      <td>4.3</td>\n",
       "      <td>136.0</td>\n",
       "      <td>3.57</td>\n",
       "      <td>41.0</td>\n",
       "      <td>16.0</td>\n",
       "      <td>16.0</td>\n",
       "      <td>167.0</td>\n",
       "      <td>2013-2014</td>\n",
       "      <td>NaN</td>\n",
       "    </tr>\n",
       "    <tr>\n",
       "      <th>1</th>\n",
       "      <td>1</td>\n",
       "      <td>1.0</td>\n",
       "      <td>73557.0</td>\n",
       "      <td>69.0</td>\n",
       "      <td>male</td>\n",
       "      <td>African American</td>\n",
       "      <td>15,000 - 19,999</td>\n",
       "      <td>26.7</td>\n",
       "      <td>72.0</td>\n",
       "      <td>122.0</td>\n",
       "      <td>...</td>\n",
       "      <td>174.0</td>\n",
       "      <td>4.3</td>\n",
       "      <td>136.0</td>\n",
       "      <td>3.57</td>\n",
       "      <td>41.0</td>\n",
       "      <td>16.0</td>\n",
       "      <td>16.0</td>\n",
       "      <td>167.0</td>\n",
       "      <td>2013-2014</td>\n",
       "      <td>NaN</td>\n",
       "    </tr>\n",
       "    <tr>\n",
       "      <th>2</th>\n",
       "      <td>2</td>\n",
       "      <td>2.0</td>\n",
       "      <td>73558.0</td>\n",
       "      <td>54.0</td>\n",
       "      <td>male</td>\n",
       "      <td>White</td>\n",
       "      <td>35,000 - 44,999</td>\n",
       "      <td>28.6</td>\n",
       "      <td>62.0</td>\n",
       "      <td>156.0</td>\n",
       "      <td>...</td>\n",
       "      <td>147.0</td>\n",
       "      <td>4.3</td>\n",
       "      <td>128.0</td>\n",
       "      <td>5.71</td>\n",
       "      <td>47.0</td>\n",
       "      <td>18.0</td>\n",
       "      <td>29.0</td>\n",
       "      <td>170.0</td>\n",
       "      <td>2013-2014</td>\n",
       "      <td>NaN</td>\n",
       "    </tr>\n",
       "    <tr>\n",
       "      <th>3</th>\n",
       "      <td>3</td>\n",
       "      <td>3.0</td>\n",
       "      <td>73558.0</td>\n",
       "      <td>54.0</td>\n",
       "      <td>male</td>\n",
       "      <td>White</td>\n",
       "      <td>35,000 - 44,999</td>\n",
       "      <td>28.6</td>\n",
       "      <td>62.0</td>\n",
       "      <td>156.0</td>\n",
       "      <td>...</td>\n",
       "      <td>147.0</td>\n",
       "      <td>4.3</td>\n",
       "      <td>128.0</td>\n",
       "      <td>5.71</td>\n",
       "      <td>47.0</td>\n",
       "      <td>18.0</td>\n",
       "      <td>29.0</td>\n",
       "      <td>170.0</td>\n",
       "      <td>2013-2014</td>\n",
       "      <td>NaN</td>\n",
       "    </tr>\n",
       "    <tr>\n",
       "      <th>4</th>\n",
       "      <td>4</td>\n",
       "      <td>4.0</td>\n",
       "      <td>73558.0</td>\n",
       "      <td>54.0</td>\n",
       "      <td>male</td>\n",
       "      <td>White</td>\n",
       "      <td>35,000 - 44,999</td>\n",
       "      <td>28.6</td>\n",
       "      <td>62.0</td>\n",
       "      <td>156.0</td>\n",
       "      <td>...</td>\n",
       "      <td>147.0</td>\n",
       "      <td>4.3</td>\n",
       "      <td>128.0</td>\n",
       "      <td>5.71</td>\n",
       "      <td>47.0</td>\n",
       "      <td>18.0</td>\n",
       "      <td>29.0</td>\n",
       "      <td>170.0</td>\n",
       "      <td>2013-2014</td>\n",
       "      <td>NaN</td>\n",
       "    </tr>\n",
       "    <tr>\n",
       "      <th>...</th>\n",
       "      <td>...</td>\n",
       "      <td>...</td>\n",
       "      <td>...</td>\n",
       "      <td>...</td>\n",
       "      <td>...</td>\n",
       "      <td>...</td>\n",
       "      <td>...</td>\n",
       "      <td>...</td>\n",
       "      <td>...</td>\n",
       "      <td>...</td>\n",
       "      <td>...</td>\n",
       "      <td>...</td>\n",
       "      <td>...</td>\n",
       "      <td>...</td>\n",
       "      <td>...</td>\n",
       "      <td>...</td>\n",
       "      <td>...</td>\n",
       "      <td>...</td>\n",
       "      <td>...</td>\n",
       "      <td>...</td>\n",
       "      <td>...</td>\n",
       "    </tr>\n",
       "    <tr>\n",
       "      <th>32901</th>\n",
       "      <td>9329</td>\n",
       "      <td>NaN</td>\n",
       "      <td>71908.0</td>\n",
       "      <td>66.0</td>\n",
       "      <td>female</td>\n",
       "      <td>White</td>\n",
       "      <td>65,000 - 74,999</td>\n",
       "      <td>35.1</td>\n",
       "      <td>NaN</td>\n",
       "      <td>NaN</td>\n",
       "      <td>...</td>\n",
       "      <td>NaN</td>\n",
       "      <td>NaN</td>\n",
       "      <td>NaN</td>\n",
       "      <td>NaN</td>\n",
       "      <td>NaN</td>\n",
       "      <td>NaN</td>\n",
       "      <td>NaN</td>\n",
       "      <td>250.0</td>\n",
       "      <td>2011-2012</td>\n",
       "      <td>NaN</td>\n",
       "    </tr>\n",
       "    <tr>\n",
       "      <th>32902</th>\n",
       "      <td>9330</td>\n",
       "      <td>NaN</td>\n",
       "      <td>71909.0</td>\n",
       "      <td>28.0</td>\n",
       "      <td>male</td>\n",
       "      <td>Mexican American</td>\n",
       "      <td>5,000 - 9,999</td>\n",
       "      <td>29.4</td>\n",
       "      <td>NaN</td>\n",
       "      <td>NaN</td>\n",
       "      <td>...</td>\n",
       "      <td>NaN</td>\n",
       "      <td>NaN</td>\n",
       "      <td>NaN</td>\n",
       "      <td>NaN</td>\n",
       "      <td>NaN</td>\n",
       "      <td>NaN</td>\n",
       "      <td>NaN</td>\n",
       "      <td>151.0</td>\n",
       "      <td>2011-2012</td>\n",
       "      <td>5.495</td>\n",
       "    </tr>\n",
       "    <tr>\n",
       "      <th>32903</th>\n",
       "      <td>9332</td>\n",
       "      <td>NaN</td>\n",
       "      <td>71911.0</td>\n",
       "      <td>27.0</td>\n",
       "      <td>male</td>\n",
       "      <td>Mexican American</td>\n",
       "      <td>75,000 and Over</td>\n",
       "      <td>31.3</td>\n",
       "      <td>NaN</td>\n",
       "      <td>NaN</td>\n",
       "      <td>...</td>\n",
       "      <td>NaN</td>\n",
       "      <td>NaN</td>\n",
       "      <td>NaN</td>\n",
       "      <td>NaN</td>\n",
       "      <td>NaN</td>\n",
       "      <td>NaN</td>\n",
       "      <td>NaN</td>\n",
       "      <td>221.0</td>\n",
       "      <td>2011-2012</td>\n",
       "      <td>5.551</td>\n",
       "    </tr>\n",
       "    <tr>\n",
       "      <th>32904</th>\n",
       "      <td>9333</td>\n",
       "      <td>NaN</td>\n",
       "      <td>71912.0</td>\n",
       "      <td>40.0</td>\n",
       "      <td>male</td>\n",
       "      <td>White</td>\n",
       "      <td>25,000 - 34,999</td>\n",
       "      <td>27.9</td>\n",
       "      <td>NaN</td>\n",
       "      <td>NaN</td>\n",
       "      <td>...</td>\n",
       "      <td>NaN</td>\n",
       "      <td>NaN</td>\n",
       "      <td>NaN</td>\n",
       "      <td>NaN</td>\n",
       "      <td>NaN</td>\n",
       "      <td>NaN</td>\n",
       "      <td>NaN</td>\n",
       "      <td>205.0</td>\n",
       "      <td>2011-2012</td>\n",
       "      <td>NaN</td>\n",
       "    </tr>\n",
       "    <tr>\n",
       "      <th>32905</th>\n",
       "      <td>9334</td>\n",
       "      <td>NaN</td>\n",
       "      <td>71913.0</td>\n",
       "      <td>18.0</td>\n",
       "      <td>female</td>\n",
       "      <td>Asian</td>\n",
       "      <td>75,000 and Over</td>\n",
       "      <td>21.6</td>\n",
       "      <td>NaN</td>\n",
       "      <td>NaN</td>\n",
       "      <td>...</td>\n",
       "      <td>NaN</td>\n",
       "      <td>NaN</td>\n",
       "      <td>NaN</td>\n",
       "      <td>NaN</td>\n",
       "      <td>NaN</td>\n",
       "      <td>NaN</td>\n",
       "      <td>NaN</td>\n",
       "      <td>275.0</td>\n",
       "      <td>2011-2012</td>\n",
       "      <td>NaN</td>\n",
       "    </tr>\n",
       "  </tbody>\n",
       "</table>\n",
       "<p>32906 rows × 43 columns</p>\n",
       "</div>"
      ],
      "text/plain": [
       "       level_0  index  sequence_number   age  gender              race   \n",
       "0            0    0.0          73557.0  69.0    male  African American  \\\n",
       "1            1    1.0          73557.0  69.0    male  African American   \n",
       "2            2    2.0          73558.0  54.0    male             White   \n",
       "3            3    3.0          73558.0  54.0    male             White   \n",
       "4            4    4.0          73558.0  54.0    male             White   \n",
       "...        ...    ...              ...   ...     ...               ...   \n",
       "32901     9329    NaN          71908.0  66.0  female             White   \n",
       "32902     9330    NaN          71909.0  28.0    male  Mexican American   \n",
       "32903     9332    NaN          71911.0  27.0    male  Mexican American   \n",
       "32904     9333    NaN          71912.0  40.0    male             White   \n",
       "32905     9334    NaN          71913.0  18.0  female             Asian   \n",
       "\n",
       "      annual_family_income   BMI  diastolic_bp  systolic_bp  ...  creatine   \n",
       "0          15,000 - 19,999  26.7          72.0        122.0  ...     174.0  \\\n",
       "1          15,000 - 19,999  26.7          72.0        122.0  ...     174.0   \n",
       "2          35,000 - 44,999  28.6          62.0        156.0  ...     147.0   \n",
       "3          35,000 - 44,999  28.6          62.0        156.0  ...     147.0   \n",
       "4          35,000 - 44,999  28.6          62.0        156.0  ...     147.0   \n",
       "...                    ...   ...           ...          ...  ...       ...   \n",
       "32901      65,000 - 74,999  35.1           NaN          NaN  ...       NaN   \n",
       "32902        5,000 - 9,999  29.4           NaN          NaN  ...       NaN   \n",
       "32903      75,000 and Over  31.3           NaN          NaN  ...       NaN   \n",
       "32904      25,000 - 34,999  27.9           NaN          NaN  ...       NaN   \n",
       "32905      75,000 and Over  21.6           NaN          NaN  ...       NaN   \n",
       "\n",
       "      potassium sodium urea_nitrogen albumin   AST   ALT   \n",
       "0           4.3  136.0          3.57    41.0  16.0  16.0  \\\n",
       "1           4.3  136.0          3.57    41.0  16.0  16.0   \n",
       "2           4.3  128.0          5.71    47.0  18.0  29.0   \n",
       "3           4.3  128.0          5.71    47.0  18.0  29.0   \n",
       "4           4.3  128.0          5.71    47.0  18.0  29.0   \n",
       "...         ...    ...           ...     ...   ...   ...   \n",
       "32901       NaN    NaN           NaN     NaN   NaN   NaN   \n",
       "32902       NaN    NaN           NaN     NaN   NaN   NaN   \n",
       "32903       NaN    NaN           NaN     NaN   NaN   NaN   \n",
       "32904       NaN    NaN           NaN     NaN   NaN   NaN   \n",
       "32905       NaN    NaN           NaN     NaN   NaN   NaN   \n",
       "\n",
       "      total_cholesterol_lab       year fasting_glucose  \n",
       "0                     167.0  2013-2014             NaN  \n",
       "1                     167.0  2013-2014             NaN  \n",
       "2                     170.0  2013-2014             NaN  \n",
       "3                     170.0  2013-2014             NaN  \n",
       "4                     170.0  2013-2014             NaN  \n",
       "...                     ...        ...             ...  \n",
       "32901                 250.0  2011-2012             NaN  \n",
       "32902                 151.0  2011-2012           5.495  \n",
       "32903                 221.0  2011-2012           5.551  \n",
       "32904                 205.0  2011-2012             NaN  \n",
       "32905                 275.0  2011-2012             NaN  \n",
       "\n",
       "[32906 rows x 43 columns]"
      ]
     },
     "execution_count": 74,
     "metadata": {},
     "output_type": "execute_result"
    }
   ],
   "source": [
    "df2"
   ]
  },
  {
   "cell_type": "code",
   "execution_count": 75,
   "id": "5898d253",
   "metadata": {},
   "outputs": [],
   "source": [
    "df2.to_csv('HealthData2005-2014.csv')"
   ]
  }
 ],
 "metadata": {
  "kernelspec": {
   "display_name": "Python 3 (ipykernel)",
   "language": "python",
   "name": "python3"
  },
  "language_info": {
   "codemirror_mode": {
    "name": "ipython",
    "version": 3
   },
   "file_extension": ".py",
   "mimetype": "text/x-python",
   "name": "python",
   "nbconvert_exporter": "python",
   "pygments_lexer": "ipython3",
   "version": "3.9.13"
  }
 },
 "nbformat": 4,
 "nbformat_minor": 5
}
